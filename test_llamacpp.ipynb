{
 "cells": [
  {
   "cell_type": "code",
   "execution_count": 69,
   "metadata": {},
   "outputs": [],
   "source": [
    "def run_completion(chat_method, user_query):\n",
    "    print(chat_method)\n",
    "    system_prompt = \"You are a helpful assistant.\"\n",
    "    functions = [\n",
    "      {\n",
    "          \"type\": \"function\",\n",
    "        \"function\": {\n",
    "          \"name\": \"getCurrentWeather\",\n",
    "          \"description\": \"Get the weather in location\",\n",
    "          \"parameters\": {\n",
    "            \"type\": \"object\",\n",
    "            \"properties\": {\n",
    "              \"location\": {\"type\": \"string\", \"description\": \"The city and state e.g. San Francisco, CA\"},\n",
    "              \"unit\": {\"type\": \"string\", \"enum\": [\"c\", \"f\"]}\n",
    "            },\n",
    "            \"required\": [\"location\"]\n",
    "          }\n",
    "        }\n",
    "      },\n",
    "      {    \"type\": \"function\",\n",
    "        \"function\":\n",
    "        {\n",
    "            \"name\": \"orderUmbrella\",\n",
    "            \"description\": \"Do this to help user to order an umbrella online\", \n",
    "            \"parameters\": {\n",
    "                \"type\": \"object\",\n",
    "                \"properties\": {\n",
    "                    \"number_to_buy\": {\n",
    "                        \"type\": \"integer\",\n",
    "                        \"description\": \"the amount of umbrellas to buy\"\n",
    "                    }\n",
    "                },\n",
    "                \"required\": [\n",
    "                    \"number_to_buy\"\n",
    "                ]\n",
    "            }\n",
    "        }},\n",
    "    ]\n",
    "    # functions = [{\"type\": \"function\",\"function\":{\"name\":\"calculate_distance\",\"description\":\"Calculate the distance between two locations\",\"parameters\":{\"type\":\"object\",\"properties\":{\"origin\":{\"type\":\"string\",\"description\":\"The starting location\"},\"destination\":{\"type\":\"string\",\"description\":\"The destination location\"},\"mode\":{\"type\":\"string\",\"description\":\"The mode of transportation\"}},\"required\":[\"origin\",\"destination\",\"mode\"]}}},{\"type\": \"function\",\"function\":{\"name\":\"generate_password\",\"description\":\"Generate a random password\",\"parameters\":{\"type\":\"object\",\"properties\":{\"length\":{\"type\":\"integer\",\"description\":\"The length of the password\"}},\"required\":[\"length\"]}}}]\n",
    "\n",
    "    msgs = [{\"role\": \"system\", \"content\":system_prompt} ,{\"role\": \"user\", \"content\": user_query}]\n",
    "\n",
    "    res = chat_method(user_query, \"gpt-4-0125-preview\", functions=functions, msgs=msgs)\n",
    "    print(f\"First Response:\")\n",
    "    for tool_call in res.message.tool_calls:\n",
    "        print(f\"Tool Call: {tool_call.id}, {tool_call.function}\")\n",
    "    assistant_message = res.message\n",
    "    tool_calls = []\n",
    "    for tool_call in assistant_message.tool_calls:\n",
    "        tool_calls.append( {\n",
    "                            \"id\": tool_call.id,\n",
    "                            \"function\": {\"name\": tool_call.function.name,\n",
    "                                        \"arguments\": tool_call.function.arguments},\n",
    "                            \"type\": \"function\",\n",
    "                        })\n",
    "    msgs.append({\"role\": \"assistant\",  \"tool_calls\": tool_calls})\n",
    "    \n",
    "    for i, tool_call in enumerate(assistant_message.tool_calls):\n",
    "        if tool_call.function.name == \"getCurrentWeather\":\n",
    "            msgs.append({\"role\": \"tool\", \"tool_call_id\": str(assistant_message.tool_calls[i].id), \"name\": assistant_message.tool_calls[i].function.name, \"content\": f\"temprature is {i * 50} degree\"})\n",
    "        else:\n",
    "            msgs.append({\"role\": \"tool\", \"tool_call_id\": str(assistant_message.tool_calls[i].id), \"name\": assistant_message.tool_calls[i].function.name, \"content\": f\"Order placed.\"})\n",
    "        \n",
    "\n",
    "    print(\"Print before second response...\")\n",
    "    res_next = chat_method(user_query, \"gpt-4-0125-preview\", functions=functions, msgs=msgs)\n",
    "    for m in msgs:\n",
    "        print(m)\n",
    "    print(f\"Second Response: {res_next.message}\")"
   ]
  },
  {
   "cell_type": "markdown",
   "metadata": {},
   "source": [
    "## OpenAI"
   ]
  },
  {
   "cell_type": "code",
   "execution_count": 70,
   "metadata": {},
   "outputs": [],
   "source": [
    "import openai\n",
    "\n",
    "\n",
    "def get_oai_response(prompt, model, functions, msgs):\n",
    "  openai.api_key = \"sk-\" ## Add your API key here\n",
    "  openai.base_url = \"https://api.openai.com/v1/\"\n",
    "  \n",
    "  try:\n",
    "    completion = openai.chat.completions.create(\n",
    "      model=model,\n",
    "      temperature=0.1,\n",
    "      messages=msgs,\n",
    "      tools=functions,\n",
    "      tool_choice=\"auto\",\n",
    "      # functions=functions,\n",
    "      # function_call=\"auto\",\n",
    "      stream=False,\n",
    "    )\n",
    "    return completion.choices[0]\n",
    "  except Exception as e:\n",
    "    print(e, model, prompt)\n"
   ]
  },
  {
   "cell_type": "code",
   "execution_count": 71,
   "metadata": {},
   "outputs": [
    {
     "name": "stdout",
     "output_type": "stream",
     "text": [
      "<function get_oai_response at 0x10b9c93f0>\n",
      "First Response:\n",
      "Tool Call: call_FYLEpX5CVo2dqSyNupcgtFak, Function(arguments='{\"number_to_buy\":2}', name='orderUmbrella')\n",
      "Print before second response...\n",
      "{'role': 'system', 'content': 'You are a helpful assistant.'}\n",
      "{'role': 'user', 'content': 'order 2 umbrellas'}\n",
      "{'role': 'assistant', 'tool_calls': [{'id': 'call_FYLEpX5CVo2dqSyNupcgtFak', 'function': {'name': 'orderUmbrella', 'arguments': '{\"number_to_buy\":2}'}, 'type': 'function'}]}\n",
      "{'role': 'tool', 'tool_call_id': 'call_FYLEpX5CVo2dqSyNupcgtFak', 'name': 'orderUmbrella', 'content': 'Order placed.'}\n",
      "Second Response: ChatCompletionMessage(content=\"I've placed the order for 2 umbrellas for you. Is there anything else I can help with?\", role='assistant', function_call=None, tool_calls=None)\n"
     ]
    }
   ],
   "source": [
    "# user_query = \"What is the distance between San Francisco and Cupertino by car and by air\"\n",
    "# user_query = \"weather in boston as well as cupertino?\"\n",
    "user_query = \"order 2 umbrellas\"\n",
    "run_completion(get_oai_response, user_query)"
   ]
  },
  {
   "cell_type": "markdown",
   "metadata": {},
   "source": [
    "## Function.cpp"
   ]
  },
  {
   "cell_type": "code",
   "execution_count": 72,
   "metadata": {},
   "outputs": [],
   "source": [
    "import openai\n",
    "\n",
    "\n",
    "def get_mistral_rubra_response(prompt, model, functions, msgs):\n",
    "  openai.api_key = \"sk-\"\n",
    "  openai.base_url = \"http://localhost:8019/v1/\"\n",
    "  \n",
    "  try:\n",
    "    completion = openai.chat.completions.create(\n",
    "      model=model,\n",
    "      temperature=0.1,\n",
    "      messages=msgs,\n",
    "      tools=functions,\n",
    "      tool_choice=\"auto\",\n",
    "      stream=False,\n",
    "    )\n",
    "    return completion.choices[0]\n",
    "  except Exception as e:\n",
    "    print(e, model, prompt)\n",
    "\n"
   ]
  },
  {
   "cell_type": "code",
   "execution_count": 73,
   "metadata": {},
   "outputs": [
    {
     "name": "stdout",
     "output_type": "stream",
     "text": [
      "<function get_mistral_rubra_response at 0x10b9cac20>\n",
      "First Response:\n",
      "Tool Call: 0, Function(arguments='{\"number_to_buy\":\"2\"}', name='orderUmbrella')\n",
      "Print before second response...\n",
      "{'role': 'system', 'content': 'You are a helpful assistant.'}\n",
      "{'role': 'user', 'content': 'order 2 umbrellas'}\n",
      "{'role': 'assistant', 'tool_calls': [{'id': '0', 'function': {'name': 'orderUmbrella', 'arguments': '{\"number_to_buy\":\"2\"}'}, 'type': 'function'}]}\n",
      "{'role': 'tool', 'tool_call_id': '0', 'name': 'orderUmbrella', 'content': 'Order placed.'}\n",
      "Second Response: ChatCompletionMessage(content=' Your order for 2 umbrellas has been placed.', role='assistant', function_call=None, tool_calls=None)\n"
     ]
    }
   ],
   "source": [
    "# user_query = \"generate a password of length 10 and another of length 20\" \n",
    "# user_query = \"what's the weather in Boston and Cupertino?\"\n",
    "user_query = \"order 2 umbrellas\"\n",
    "run_completion(get_mistral_rubra_response, user_query)"
   ]
  },
  {
   "cell_type": "markdown",
   "metadata": {},
   "source": [
    "#### IGNORE the following for now."
   ]
  },
  {
   "cell_type": "code",
   "execution_count": 46,
   "metadata": {},
   "outputs": [
    {
     "name": "stdout",
     "output_type": "stream",
     "text": [
      "None\n"
     ]
    }
   ],
   "source": [
    "system_prompt = \"You are a helpful assistant.\"\n",
    "functions = [\n",
    "    {\"function\":\n",
    "    {\n",
    "        \"name\": \"get_stock_fundermentals\",\n",
    "        \"description\": \"Get the stock fundermentals data\",\n",
    "        \"parameters\": {\n",
    "            \"type\": \"object\",\n",
    "            \"properties\": {\n",
    "                \"symbol\": {\n",
    "                    \"type\": \"string\",\n",
    "                    \"description\": \"The stock symbol, e.g. AAPL, GOOG\"\n",
    "                }\n",
    "            },\n",
    "            \"required\": [\n",
    "                \"symbol\"\n",
    "            ]\n",
    "        }\n",
    "    }},\n",
    "    {\"function\":{\n",
    "        \"name\": \"check_word_anagram\",\n",
    "        \"description\": \"Check if two words are anagrams of each other\",\n",
    "        \"parameters\": {\n",
    "            \"type\": \"object\",\n",
    "            \"properties\": {\n",
    "                \"word1\": {\n",
    "                    \"type\": \"string\",\n",
    "                    \"description\": \"The first word\"\n",
    "                },\n",
    "                \"word2\": {\n",
    "                    \"type\": \"string\",\n",
    "                    \"description\": \"The second word\"\n",
    "                }\n",
    "            },\n",
    "            \"required\": [\n",
    "                \"word1\",\n",
    "                \"word2\"\n",
    "            ]\n",
    "        }\n",
    "    }}\n",
    "]\n",
    "\n",
    "user_query = \"What's the stock fundementals of Tesla and google\"\n",
    "\n",
    "# \n",
    "# msgs = [{\"role\": \"system\", \"content\":system_prompt} ,{\"role\": \"user\", \"content\": user_query}, {\"role\": \"function\", \"content\": '<<functions>>[get_stock_price(symbol=\"TSLA\")], <<functions>>[get_stock_price(symbol=\"GOOG\")]'}, {\"role\": \"observation\", \"content\": \"{'symbol': 'TSLA', 'company_name': 'Tesla, Inc.', 'sector': 'Consumer Cyclical', 'industry': 'Auto Manufacturers', 'market_cap': 611384164352, 'pe_ratio': 49.604652, 'pb_ratio': 9.762013, 'dividend_yield': None, 'eps': 4.3, 'beta': 2.427, '52_week_high': 299.29, '52_week_low': 152.37}}\"}]\n",
    "msgs = [{\"role\": \"system\", \"content\":system_prompt} ,{\"role\": \"user\", \"content\": user_query},]\n",
    "res = get_mistral_rubra_response(user_query, \"mistral_rubra\", functions=functions, msgs=msgs)\n",
    "print(res.message.content)"
   ]
  },
  {
   "cell_type": "code",
   "execution_count": 47,
   "metadata": {},
   "outputs": [
    {
     "name": "stdout",
     "output_type": "stream",
     "text": [
      "content: <<functions>>[get_current_weather(location='Boston, MA', api_key=123456789, unit='fahrenheit'), func(x= 1, b='2', c=123)]\n",
      "[\"get_current_weather(location='Boston, MA', api_key=123456789, unit='fahrenheit')\", \" func(x= 1, b='2', c=123))\"]\n"
     ]
    },
    {
     "ename": "SyntaxError",
     "evalue": "unterminated string literal (detected at line 1) (<unknown>, line 1)",
     "output_type": "error",
     "traceback": [
      "Traceback \u001b[0;36m(most recent call last)\u001b[0m:\n",
      "\u001b[0m  File \u001b[1;32m~/.pyenv/versions/3.10.12/envs/py310/lib/python3.10/site-packages/IPython/core/interactiveshell.py:3548\u001b[0m in \u001b[1;35mrun_code\u001b[0m\n    exec(code_obj, self.user_global_ns, self.user_ns)\u001b[0m\n",
      "\u001b[0m  Cell \u001b[1;32mIn[47], line 40\u001b[0m\n    result_dict = parse_function_call(function_call.strip())\u001b[0m\n",
      "\u001b[0m  Cell \u001b[1;32mIn[47], line 22\u001b[0m in \u001b[1;35mparse_function_call\u001b[0m\n    parsed_value = ast.literal_eval(value)\u001b[0m\n",
      "\u001b[0m  File \u001b[1;32m~/.pyenv/versions/3.10.12/lib/python3.10/ast.py:64\u001b[0m in \u001b[1;35mliteral_eval\u001b[0m\n    node_or_string = parse(node_or_string.lstrip(\" \\t\"), mode='eval')\u001b[0m\n",
      "\u001b[0;36m  File \u001b[0;32m~/.pyenv/versions/3.10.12/lib/python3.10/ast.py:50\u001b[0;36m in \u001b[0;35mparse\u001b[0;36m\n\u001b[0;31m    return compile(source, filename, mode, flags,\u001b[0;36m\n",
      "\u001b[0;36m  File \u001b[0;32m<unknown>:1\u001b[0;36m\u001b[0m\n\u001b[0;31m    'Boston\u001b[0m\n\u001b[0m    ^\u001b[0m\n\u001b[0;31mSyntaxError\u001b[0m\u001b[0;31m:\u001b[0m unterminated string literal (detected at line 1)\n"
     ]
    }
   ],
   "source": [
    "import json\n",
    "import re\n",
    "import ast\n",
    "\n",
    "content = \"<<functions>>[get_current_weather(location='Boston, MA', api_key=123456789, unit='fahrenheit'), func(x= 1, b='2', c=123)]\"\n",
    "regex = re.compile(r\"<<functions>>\\[(.*?)\\]\", re.DOTALL)\n",
    "matches = re.findall(regex, content)\n",
    "\n",
    "print(\"content:\", content)\n",
    "\n",
    "def parse_function_call(call):\n",
    "    func_name, args_str = call.split('(', 1)\n",
    "    args_str = args_str.rstrip(')')\n",
    "    args_list = args_str.split(',')\n",
    "    args_dict = {}\n",
    "    for arg in args_list:\n",
    "        key, value = arg.split('=')\n",
    "        key = key.strip()\n",
    "        value = value.strip()\n",
    "        try:\n",
    "            # Use ast.literal_eval to safely parse the string to its Python type\n",
    "            parsed_value = ast.literal_eval(value)\n",
    "        except ValueError as e:\n",
    "            # If parsing fails, keep the original string. \n",
    "            # This might happen if the value is a string that's not quoted as a Python literal.\n",
    "            print(f\"Error parsing value {value}: {e}\")\n",
    "            parsed_value = value\n",
    "        args_dict[key] = parsed_value\n",
    "    return {\"name\": func_name.strip(), \"arguments\": args_dict}\n",
    "\n",
    "result_dicts = []\n",
    "for match in matches:\n",
    "    # Splitting each function call from the match. We add ')' back because it was used as a delimiter\n",
    "    function_calls = [f\"{func})\" for func in match.split('),') if func]\n",
    "    print(function_calls)\n",
    "    for function_call in function_calls:\n",
    "        # Removing the trailing ')' that was added for the last function call\n",
    "        if function_call.endswith(')'):\n",
    "            function_call = function_call[:-1]\n",
    "        result_dict = parse_function_call(function_call.strip())\n",
    "        result_dicts.append(result_dict)\n",
    "    print(result_dicts)\n",
    "\n",
    "res = json.dumps(result_dicts, ensure_ascii=False)\n",
    "res"
   ]
  },
  {
   "cell_type": "code",
   "execution_count": null,
   "metadata": {},
   "outputs": [
    {
     "name": "stdout",
     "output_type": "stream",
     "text": [
      "[{'name': 'get_current_weather', 'args': [], 'kwargs': {'location': 'Boston, MA', 'api_key': 123456789, 'unit': 'fahrenheit'}}, {'name': 'func', 'args': ['cde'], 'kwargs': {'x': 1, 'b': '2', 'c': [1, 2, {'a': 1, 'b': 2}]}}]\n"
     ]
    }
   ],
   "source": [
    "import ast\n",
    "\n",
    "raw_input_str = \"<<functions>>[get_current_weather(location='Boston, MA', api_key=123456789, unit='fahrenheit'), func('cde', x= 1, b='2', c=[1, 2, {'a': 1, 'b': 2}])]\"\n",
    "# raw_input_str = \"<<functions>>[get_current_weather(location='Boston, MA', api_key=123456789, unit='fahrenheit'), func( x=1, b='2', c=123)]\"\n",
    "input_str = raw_input_str.split('<<functions>>')[1]\n",
    "# Parse the string into an AST\n",
    "parsed_ast = ast.parse(input_str, mode='eval')\n",
    "\n",
    "def find_calls(node):\n",
    "    calls = []\n",
    "    if isinstance(node, ast.Call):  # If it's a function call\n",
    "        calls.append(node)\n",
    "        return calls\n",
    "    for child in ast.iter_child_nodes(node):\n",
    "        calls.extend(find_calls(child))\n",
    "    return calls\n",
    "\n",
    "# Extract all function call nodes\n",
    "calls = find_calls(parsed_ast.body)\n",
    "\n",
    "functions = []\n",
    "for call in calls:\n",
    "    if isinstance(call.func, ast.Name):  # Ensure it's a named function\n",
    "        function_name = call.func.id\n",
    "        args = [ast.literal_eval(arg) for arg in call.args]  # Convert all positional arguments\n",
    "        kwargs = {kw.arg: ast.literal_eval(kw.value) for kw in call.keywords}  # Convert all keyword arguments\n",
    "        functions.append({\"name\": function_name, \"args\": args, \"kwargs\":kwargs})\n",
    "\n",
    "print(functions)\n"
   ]
  },
  {
   "cell_type": "code",
   "execution_count": null,
   "metadata": {},
   "outputs": [
    {
     "name": "stdout",
     "output_type": "stream",
     "text": [
      "[('get_current_weather', [], {'location': 'Boston, MA', 'api_key': 123456789, 'unit': 'fahrenheit'}), ('func', ['cde'], {'x': 1, 'b': '2', 'c': ['func_nested(1, 2)', {'a': \"func_deep('value')\"}]})]\n"
     ]
    }
   ],
   "source": [
    "import ast\n",
    "\n",
    "input_str = \"[get_current_weather(location='Boston, MA', api_key=123456789, unit='fahrenheit'), func('cde', x= 1, b='2', c=[func_nested(1, 2), {'a': func_deep('value')}])]\"\n",
    "\n",
    "def ast_node_to_object(node):\n",
    "    if isinstance(node, ast.Constant):\n",
    "        return node.value\n",
    "    elif isinstance(node, ast.List):\n",
    "        return [ast_node_to_object(n) for n in node.elts]\n",
    "    elif isinstance(node, ast.Dict):\n",
    "        return {ast_node_to_object(key): ast_node_to_object(value) for key, value in zip(node.keys, node.values)}\n",
    "    elif isinstance(node, ast.Tuple):\n",
    "        return tuple(ast_node_to_object(n) for n in node.elts)\n",
    "    elif isinstance(node, ast.Call):\n",
    "        return ast.unparse(node)\n",
    "        # Handle function calls: convert to a representation with the function name and arguments\n",
    "        # func_name = ast_node_to_object(node.func)  # Get the function name\n",
    "        # args = [ast_node_to_object(arg) for arg in node.args]  # Convert all positional arguments\n",
    "        # kwargs = {kw.arg: ast_node_to_object(kw.value) for kw in node.keywords}  # Convert all keyword arguments\n",
    "        # return {\"function\": func_name, \"args\": args, \"kwargs\": kwargs}\n",
    "    elif isinstance(node, ast.Name):\n",
    "        return node.id  # Return the identifier name\n",
    "    # Add more cases here as needed\n",
    "    return None\n",
    "\n",
    "# Parse the string into an AST\n",
    "parsed_ast = ast.parse(input_str, mode='eval')\n",
    "\n",
    "# Function to find only the top-level Call nodes\n",
    "def find_top_level_calls(node):\n",
    "    calls = []\n",
    "    if isinstance(node, ast.Call):  # If it's a function call\n",
    "        calls.append(node)\n",
    "        # Do not descend into child nodes to ensure we're only capturing top-level calls\n",
    "        return calls\n",
    "    for child in ast.iter_child_nodes(node):\n",
    "        # Recursively find calls without going into nested calls\n",
    "        calls.extend(find_top_level_calls(child))\n",
    "    return calls\n",
    "\n",
    "# Extract all top-level function call nodes\n",
    "top_level_calls = find_top_level_calls(parsed_ast.body)\n",
    "\n",
    "# Process each call node to get the details you want\n",
    "functions = []\n",
    "for call in top_level_calls:\n",
    "    if isinstance(call.func, ast.Name):  # Ensure it's a named function\n",
    "        function_name = call.func.id\n",
    "        args = [ast_node_to_object(arg) for arg in call.args]  # Convert all positional arguments\n",
    "        kwargs = {kw.arg: ast_node_to_object(kw.value) for kw in call.keywords}  # Convert all keyword arguments\n",
    "        functions.append((function_name, args, kwargs))\n",
    "\n",
    "print(functions)\n"
   ]
  }
 ],
 "metadata": {
  "kernelspec": {
   "display_name": "py310",
   "language": "python",
   "name": "python3"
  },
  "language_info": {
   "codemirror_mode": {
    "name": "ipython",
    "version": 3
   },
   "file_extension": ".py",
   "mimetype": "text/x-python",
   "name": "python",
   "nbconvert_exporter": "python",
   "pygments_lexer": "ipython3",
   "version": "3.10.12"
  }
 },
 "nbformat": 4,
 "nbformat_minor": 2
}
